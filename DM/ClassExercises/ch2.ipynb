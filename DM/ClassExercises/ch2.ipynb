{
 "cells": [
  {
   "cell_type": "code",
   "execution_count": 2,
   "metadata": {
    "collapsed": true
   },
   "outputs": [],
   "source": [
    "import numpy as np\n",
    "import pandas as pd"
   ]
  },
  {
   "cell_type": "code",
   "execution_count": 7,
   "metadata": {},
   "outputs": [],
   "source": [
    "train_x = pd.read_csv(\"../DataSet/character/clean_data_has_label.csv\")\n",
    "del train_x[\"uid\"]"
   ]
  },
  {
   "cell_type": "code",
   "execution_count": 8,
   "metadata": {
    "collapsed": true,
    "scrolled": true
   },
   "outputs": [],
   "source": [
    "train_x_P = train_x[train_x[\"label\"] == 1]\n",
    "train_x_N = train_x[train_x[\"label\"] == 0]"
   ]
  },
  {
   "cell_type": "code",
   "execution_count": 9,
   "metadata": {
    "collapsed": true
   },
   "outputs": [],
   "source": [
    "row,col = train_x_P.shape\n",
    "train_data_P = train_x_P[:int(row*0.75)]\n",
    "row,col = train_x_N.shape\n",
    "train_data_N = train_x_N[:int(row*0.8)]\n",
    "\n",
    "row,col = train_x_P.shape\n",
    "test_Data_P = train_x_P[int(row*0.75):]\n",
    "row,col = train_x_N.shape\n",
    "test_data_N = train_x_N[int(row*0.8):]\n",
    "\n",
    "train_data = train_data_P.append(train_data_N)\n",
    "test_Data = test_Data_P.append(test_data_N)"
   ]
  },
  {
   "cell_type": "code",
   "execution_count": 12,
   "metadata": {
    "collapsed": true,
    "scrolled": true
   },
   "outputs": [],
   "source": [
    "train_data.to_csv(\"../DataSet/character/train_data.csv\",index =False,header =False)\n",
    "test_Data.to_csv(\"../DataSet/character/test_data.csv\",index =False,header =False)"
   ]
  }
 ],
 "metadata": {
  "kernelspec": {
   "display_name": "Python 3",
   "language": "python",
   "name": "python3"
  },
  "language_info": {
   "codemirror_mode": {
    "name": "ipython",
    "version": 3
   },
   "file_extension": ".py",
   "mimetype": "text/x-python",
   "name": "python",
   "nbconvert_exporter": "python",
   "pygments_lexer": "ipython3",
   "version": "3.5.4"
  }
 },
 "nbformat": 4,
 "nbformat_minor": 2
}
