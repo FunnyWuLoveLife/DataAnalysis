{
 "cells": [
  {
   "cell_type": "code",
   "execution_count": 2,
   "metadata": {
    "collapsed": true
   },
   "outputs": [],
   "source": [
    "import numpy as np"
   ]
  },
  {
   "cell_type": "code",
   "execution_count": 6,
   "metadata": {},
   "outputs": [
    {
     "name": "stdout",
     "output_type": "stream",
     "text": [
      "43 people bought Apples\n"
     ]
    }
   ],
   "source": [
    "dataset = np.loadtxt(\"affinity_dataset.txt\")\n",
    "num_apple_purchases = 0\n",
    "for data in dataset:\n",
    "    if data[3] ==1:\n",
    "        num_apple_purchases += 1\n",
    "print(\"{0} people bought Apples\".format(num_apple_purchases))"
   ]
  },
  {
   "cell_type": "code",
   "execution_count": 26,
   "metadata": {},
   "outputs": [],
   "source": [
    "from collections import defaultdict\n",
    "valid_rules = defaultdict(int)\n",
    "invalid_rules = defaultdict(int)\n",
    "num_occurances = defaultdict(int)\n",
    "n_sample,n_features = dataset.shape\n",
    "features = [\"bread\", \"milk\", \"cheese\", \"apples\", \"bananas\"]"
   ]
  },
  {
   "cell_type": "code",
   "execution_count": 28,
   "metadata": {},
   "outputs": [],
   "source": [
    "for data in dataset:\n",
    "    for premise in range(4):\n",
    "        if data[premise] ==0:continue\n",
    "        num_occurances[premise] += 1\n",
    "        for conclusion in range(n_features):\n",
    "            if premise == conclusion:continue\n",
    "        if data[conclusion] == 1:\n",
    "             valid_rules[(premise, conclusion)] += 1\n",
    "        else:\n",
    "             invalid_rules[(premise, conclusion)] += 1\n",
    "support = valid_rules \n",
    "confidence = defaultdict(float)\n",
    "for premise, conclusion in valid_rules.keys():\n",
    "    rule = (premise, conclusion)\n",
    "    confidence[rule] = valid_rules[rule] / num_occurances[premise] "
   ]
  },
  {
   "cell_type": "code",
   "execution_count": 29,
   "metadata": {},
   "outputs": [],
   "source": [
    "def print_rule(premise, conclusion,support, confidence, features):\n",
    "    premise_name = features[premise]\n",
    "    conclusion_name = features[conclusion]\n",
    "    print(\"Rule: If a person buys {0} they will also buy{1}\".format(premise_name, conclusion_name))\n",
    "    print(\" - Support: {0}\".format(support[(premise,conclusion)]))\n",
    "    print(\" - Confidence: {0:.3f}\".format(confidence[(premise,conclusion)])) \n"
   ]
  },
  {
   "cell_type": "code",
   "execution_count": 30,
   "metadata": {},
   "outputs": [
    {
     "name": "stdout",
     "output_type": "stream",
     "text": [
      "Rule: If a person buys milk they will also buyapples\n",
      " - Support: 0\n",
      " - Confidence: 0.000\n"
     ]
    }
   ],
   "source": [
    "premise =1\n",
    "conclusion  =3\n",
    "print_rule(premise, conclusion,support, confidence, features)"
   ]
  }
 ],
 "metadata": {
  "kernelspec": {
   "display_name": "Python 3",
   "language": "python",
   "name": "python3"
  },
  "language_info": {
   "codemirror_mode": {
    "name": "ipython",
    "version": 3
   },
   "file_extension": ".py",
   "mimetype": "text/x-python",
   "name": "python",
   "nbconvert_exporter": "python",
   "pygments_lexer": "ipython3",
   "version": "3.5.4"
  }
 },
 "nbformat": 4,
 "nbformat_minor": 2
}
